{
 "cells": [
  {
   "cell_type": "code",
   "execution_count": 19,
   "id": "864de118-31bb-4eef-9942-c8ef18725f13",
   "metadata": {},
   "outputs": [
    {
     "name": "stdout",
     "output_type": "stream",
     "text": [
      "Found existing installation: xgboost 3.0.2\n",
      "Uninstalling xgboost-3.0.2:\n",
      "  Successfully uninstalled xgboost-3.0.2\n",
      "Found existing installation: lightgbm 4.6.0\n",
      "Uninstalling lightgbm-4.6.0:\n",
      "  Successfully uninstalled lightgbm-4.6.0\n"
     ]
    },
    {
     "name": "stderr",
     "output_type": "stream",
     "text": [
      "WARNING: Failed to remove contents in a temporary directory 'C:\\Users\\DELL\\anaconda3\\Lib\\site-packages\\~gboost'.\n",
      "You can safely remove it manually.\n",
      "WARNING: Failed to remove contents in a temporary directory 'C:\\Users\\DELL\\anaconda3\\Lib\\site-packages\\~ightgbm'.\n",
      "You can safely remove it manually.\n"
     ]
    }
   ],
   "source": [
    "!pip uninstall xgboost lightgbm -y"
   ]
  },
  {
   "cell_type": "code",
   "execution_count": 20,
   "id": "0da6eb86-8aef-45c2-abf1-7ecb077a20ac",
   "metadata": {},
   "outputs": [
    {
     "name": "stdout",
     "output_type": "stream",
     "text": [
      "Collecting lightgbm==3.3.2\n",
      "  Downloading lightgbm-3.3.2-py3-none-win_amd64.whl.metadata (15 kB)\n",
      "Requirement already satisfied: wheel in c:\\users\\dell\\anaconda3\\lib\\site-packages (from lightgbm==3.3.2) (0.44.0)\n",
      "Requirement already satisfied: numpy in c:\\users\\dell\\anaconda3\\lib\\site-packages (from lightgbm==3.3.2) (1.26.4)\n",
      "Requirement already satisfied: scipy in c:\\users\\dell\\anaconda3\\lib\\site-packages (from lightgbm==3.3.2) (1.13.1)\n",
      "Requirement already satisfied: scikit-learn!=0.22.0 in c:\\users\\dell\\anaconda3\\lib\\site-packages (from lightgbm==3.3.2) (1.5.1)\n",
      "Requirement already satisfied: joblib>=1.2.0 in c:\\users\\dell\\anaconda3\\lib\\site-packages (from scikit-learn!=0.22.0->lightgbm==3.3.2) (1.4.2)\n",
      "Requirement already satisfied: threadpoolctl>=3.1.0 in c:\\users\\dell\\anaconda3\\lib\\site-packages (from scikit-learn!=0.22.0->lightgbm==3.3.2) (3.5.0)\n",
      "Downloading lightgbm-3.3.2-py3-none-win_amd64.whl (1.0 MB)\n",
      "   ---------------------------------------- 0.0/1.0 MB ? eta -:--:--\n",
      "   ---------------------------------------- 0.0/1.0 MB ? eta -:--:--\n",
      "   ---------- ----------------------------- 0.3/1.0 MB ? eta -:--:--\n",
      "   ---------- ----------------------------- 0.3/1.0 MB ? eta -:--:--\n",
      "   -------------------- ------------------- 0.5/1.0 MB 764.3 kB/s eta 0:00:01\n",
      "   -------------------- ------------------- 0.5/1.0 MB 764.3 kB/s eta 0:00:01\n",
      "   ------------------------------ --------- 0.8/1.0 MB 799.2 kB/s eta 0:00:01\n",
      "   ---------------------------------------- 1.0/1.0 MB 849.7 kB/s eta 0:00:00\n",
      "Installing collected packages: lightgbm\n",
      "Successfully installed lightgbm-3.3.2\n"
     ]
    }
   ],
   "source": [
    "!pip install lightgbm==3.3.2 --no-cache-dir"
   ]
  },
  {
   "cell_type": "code",
   "execution_count": 2,
   "id": "b48354e8-6c80-43f6-9be7-e0df550b27fc",
   "metadata": {},
   "outputs": [],
   "source": [
    "import pandas as pd\n",
    "import numpy as np\n",
    "from sklearn.model_selection import train_test_split\n",
    "from sklearn.preprocessing import LabelEncoder\n",
    "from sklearn.metrics import mean_absolute_error, mean_squared_error, r2_score\n",
    "import lightgbm as lgb\n",
    "import joblib"
   ]
  },
  {
   "cell_type": "code",
   "execution_count": 13,
   "id": "b1ecd5fb-0c7d-436d-b96a-2c119802637d",
   "metadata": {},
   "outputs": [],
   "source": [
    "from lightgbm import LGBMRegressor, plot_importance\n",
    "import matplotlib.pyplot as plt"
   ]
  },
  {
   "cell_type": "code",
   "execution_count": 3,
   "id": "6b3e27b2-03a6-4dd4-9c44-b0289cb35522",
   "metadata": {},
   "outputs": [],
   "source": [
    "# Load data\n",
    "df = pd.read_excel('Training.xlsx', sheet_name='Sheet1')\n",
    "\n",
    "# Feature selection\n",
    "features = [\n",
    "    'Demand_Multiplier_res',\n",
    "    'Occ_Rate_Res',\n",
    "    'Fixed_Cost',\n",
    "    'Region',\n",
    "    'Nbre-Etoile'\n",
    "]\n",
    "target = 'Paid_Price'\n"
   ]
  },
  {
   "cell_type": "code",
   "execution_count": 4,
   "id": "ca43c66b-cec1-463d-a886-8a44ed105403",
   "metadata": {},
   "outputs": [],
   "source": [
    "# Encode categorical variable\n",
    "le = LabelEncoder()\n",
    "df['Region'] = le.fit_transform(df['Region'])\n",
    "\n",
    "# Split data\n",
    "X = df[features]\n",
    "y = df[target]\n",
    "X_train, X_test, y_train, y_test = train_test_split(X, y, test_size=0.1, random_state=42)"
   ]
  },
  {
   "cell_type": "code",
   "execution_count": 5,
   "id": "5c3e3b04-b691-4d97-9746-9f5b932151fe",
   "metadata": {},
   "outputs": [],
   "source": [
    "# LightGBM dataset format\n",
    "train_data = lgb.Dataset(X_train, label=y_train)\n",
    "test_data = lgb.Dataset(X_test, label=y_test, reference=train_data)\n",
    "\n",
    "# Model parameters\n",
    "params = {\n",
    "    'objective': 'regression',\n",
    "    'metric': ['mae', 'rmse'],\n",
    "    'boosting_type': 'gbdt',\n",
    "    'learning_rate': 0.05,\n",
    "    'num_leaves': 31,\n",
    "    'max_depth': -1,  # -1 means no limit\n",
    "    'min_data_in_leaf': 20,\n",
    "    'feature_fraction': 0.8,\n",
    "    'bagging_fraction': 0.8,\n",
    "    'bagging_freq': 5,\n",
    "    'lambda_l1': 0.1,\n",
    "    'lambda_l2': 0.1,\n",
    "    'verbose': -1,\n",
    "    'random_state': 42\n",
    "}"
   ]
  },
  {
   "cell_type": "code",
   "execution_count": 6,
   "id": "ffc48406-9244-4307-9972-3e1c0bef112e",
   "metadata": {},
   "outputs": [
    {
     "name": "stderr",
     "output_type": "stream",
     "text": [
      "C:\\Users\\DELL\\anaconda3\\Lib\\site-packages\\lightgbm\\engine.py:181: UserWarning: 'early_stopping_rounds' argument is deprecated and will be removed in a future release of LightGBM. Pass 'early_stopping()' callback via 'callbacks' argument instead.\n",
      "  _log_warning(\"'early_stopping_rounds' argument is deprecated and will be removed in a future release of LightGBM. \"\n",
      "C:\\Users\\DELL\\anaconda3\\Lib\\site-packages\\lightgbm\\engine.py:239: UserWarning: 'verbose_eval' argument is deprecated and will be removed in a future release of LightGBM. Pass 'log_evaluation()' callback via 'callbacks' argument instead.\n",
      "  _log_warning(\"'verbose_eval' argument is deprecated and will be removed in a future release of LightGBM. \"\n"
     ]
    },
    {
     "name": "stdout",
     "output_type": "stream",
     "text": [
      "Training until validation scores don't improve for 50 rounds\n",
      "[50]\ttraining's l1: 61.3413\ttraining's rmse: 75.1412\tvalid_1's l1: 61.6603\tvalid_1's rmse: 75.4826\n",
      "[100]\ttraining's l1: 52.6896\ttraining's rmse: 64.4853\tvalid_1's l1: 52.8627\tvalid_1's rmse: 64.7374\n",
      "[150]\ttraining's l1: 49.2155\ttraining's rmse: 60.3995\tvalid_1's l1: 49.3548\tvalid_1's rmse: 60.6276\n",
      "[200]\ttraining's l1: 46.4718\ttraining's rmse: 57.1533\tvalid_1's l1: 46.5769\tvalid_1's rmse: 57.3529\n",
      "[250]\ttraining's l1: 44.4181\ttraining's rmse: 54.906\tvalid_1's l1: 44.5058\tvalid_1's rmse: 55.0791\n",
      "[300]\ttraining's l1: 42.4305\ttraining's rmse: 52.71\tvalid_1's l1: 42.5038\tvalid_1's rmse: 52.8625\n",
      "[350]\ttraining's l1: 40.8056\ttraining's rmse: 50.9107\tvalid_1's l1: 40.8667\tvalid_1's rmse: 51.046\n",
      "[400]\ttraining's l1: 39.4554\ttraining's rmse: 49.489\tvalid_1's l1: 39.5193\tvalid_1's rmse: 49.6167\n",
      "[450]\ttraining's l1: 38.2715\ttraining's rmse: 48.2287\tvalid_1's l1: 38.3372\tvalid_1's rmse: 48.3474\n",
      "[500]\ttraining's l1: 37.2819\ttraining's rmse: 47.1618\tvalid_1's l1: 37.3585\tvalid_1's rmse: 47.2739\n",
      "[550]\ttraining's l1: 36.3682\ttraining's rmse: 46.1809\tvalid_1's l1: 36.4506\tvalid_1's rmse: 46.2794\n",
      "[600]\ttraining's l1: 35.4403\ttraining's rmse: 45.1632\tvalid_1's l1: 35.5285\tvalid_1's rmse: 45.2577\n",
      "[650]\ttraining's l1: 34.6651\ttraining's rmse: 44.3004\tvalid_1's l1: 34.739\tvalid_1's rmse: 44.3826\n",
      "[700]\ttraining's l1: 33.7963\ttraining's rmse: 43.3453\tvalid_1's l1: 33.875\tvalid_1's rmse: 43.4305\n",
      "[750]\ttraining's l1: 33.2013\ttraining's rmse: 42.708\tvalid_1's l1: 33.2968\tvalid_1's rmse: 42.8055\n",
      "[800]\ttraining's l1: 32.3532\ttraining's rmse: 41.7511\tvalid_1's l1: 32.4341\tvalid_1's rmse: 41.8413\n",
      "[850]\ttraining's l1: 31.9258\ttraining's rmse: 41.2969\tvalid_1's l1: 32.0118\tvalid_1's rmse: 41.3962\n",
      "[900]\ttraining's l1: 31.5494\ttraining's rmse: 40.8898\tvalid_1's l1: 31.6507\tvalid_1's rmse: 41.0103\n",
      "[950]\ttraining's l1: 31.1353\ttraining's rmse: 40.4511\tvalid_1's l1: 31.2451\tvalid_1's rmse: 40.5829\n",
      "[1000]\ttraining's l1: 30.7207\ttraining's rmse: 40.0094\tvalid_1's l1: 30.8465\tvalid_1's rmse: 40.1589\n",
      "[1050]\ttraining's l1: 30.4751\ttraining's rmse: 39.7387\tvalid_1's l1: 30.6077\tvalid_1's rmse: 39.9059\n",
      "[1100]\ttraining's l1: 30.1683\ttraining's rmse: 39.4256\tvalid_1's l1: 30.3161\tvalid_1's rmse: 39.6172\n",
      "[1150]\ttraining's l1: 29.8917\ttraining's rmse: 39.1326\tvalid_1's l1: 30.0517\tvalid_1's rmse: 39.3442\n",
      "[1200]\ttraining's l1: 29.6206\ttraining's rmse: 38.8496\tvalid_1's l1: 29.7951\tvalid_1's rmse: 39.0872\n",
      "[1250]\ttraining's l1: 29.4649\ttraining's rmse: 38.6849\tvalid_1's l1: 29.6505\tvalid_1's rmse: 38.9425\n",
      "[1300]\ttraining's l1: 29.3075\ttraining's rmse: 38.5126\tvalid_1's l1: 29.5041\tvalid_1's rmse: 38.787\n",
      "[1350]\ttraining's l1: 29.0145\ttraining's rmse: 38.2095\tvalid_1's l1: 29.2165\tvalid_1's rmse: 38.4963\n",
      "[1400]\ttraining's l1: 28.8624\ttraining's rmse: 38.0447\tvalid_1's l1: 29.0776\tvalid_1's rmse: 38.3536\n",
      "[1450]\ttraining's l1: 28.68\ttraining's rmse: 37.8437\tvalid_1's l1: 28.907\tvalid_1's rmse: 38.1691\n",
      "[1500]\ttraining's l1: 28.5265\ttraining's rmse: 37.6829\tvalid_1's l1: 28.7611\tvalid_1's rmse: 38.0221\n",
      "[1550]\ttraining's l1: 28.3521\ttraining's rmse: 37.4983\tvalid_1's l1: 28.598\tvalid_1's rmse: 37.8622\n",
      "[1600]\ttraining's l1: 28.2329\ttraining's rmse: 37.3753\tvalid_1's l1: 28.4927\tvalid_1's rmse: 37.7609\n",
      "[1650]\ttraining's l1: 28.1438\ttraining's rmse: 37.2814\tvalid_1's l1: 28.4159\tvalid_1's rmse: 37.6831\n",
      "[1700]\ttraining's l1: 28.0103\ttraining's rmse: 37.1423\tvalid_1's l1: 28.2997\tvalid_1's rmse: 37.5667\n",
      "[1750]\ttraining's l1: 27.9131\ttraining's rmse: 37.0406\tvalid_1's l1: 28.2133\tvalid_1's rmse: 37.4853\n",
      "[1800]\ttraining's l1: 27.8649\ttraining's rmse: 36.9862\tvalid_1's l1: 28.1816\tvalid_1's rmse: 37.4548\n",
      "[1850]\ttraining's l1: 27.786\ttraining's rmse: 36.9045\tvalid_1's l1: 28.1191\tvalid_1's rmse: 37.3933\n",
      "[1900]\ttraining's l1: 27.6599\ttraining's rmse: 36.7679\tvalid_1's l1: 28.0065\tvalid_1's rmse: 37.2794\n",
      "[1950]\ttraining's l1: 27.5604\ttraining's rmse: 36.663\tvalid_1's l1: 27.9211\tvalid_1's rmse: 37.198\n",
      "[2000]\ttraining's l1: 27.4804\ttraining's rmse: 36.5793\tvalid_1's l1: 27.8556\tvalid_1's rmse: 37.1384\n",
      "Did not meet early stopping. Best iteration is:\n",
      "[2000]\ttraining's l1: 27.4804\ttraining's rmse: 36.5793\tvalid_1's l1: 27.8556\tvalid_1's rmse: 37.1384\n"
     ]
    }
   ],
   "source": [
    "# Train model\n",
    "model = lgb.train(\n",
    "    params,\n",
    "    train_data,\n",
    "    valid_sets=[train_data, test_data],\n",
    "    num_boost_round=2000,\n",
    "    early_stopping_rounds=50,\n",
    "    verbose_eval=50\n",
    ")"
   ]
  },
  {
   "cell_type": "code",
   "execution_count": 7,
   "id": "d8954663-a15f-4847-bcf5-622be2ca778c",
   "metadata": {},
   "outputs": [
    {
     "name": "stdout",
     "output_type": "stream",
     "text": [
      "\n",
      "MAE: 27.86\n",
      "RMSE: 37.14\n",
      "R²: 0.9780\n"
     ]
    }
   ],
   "source": [
    "# Evaluate\n",
    "y_pred = model.predict(X_test)\n",
    "print(f\"\\nMAE: {mean_absolute_error(y_test, y_pred):.2f}\")\n",
    "print(f\"RMSE: {np.sqrt(mean_squared_error(y_test, y_pred)):.2f}\")\n",
    "print(f\"R²: {r2_score(y_test, y_pred):.4f}\")\n"
   ]
  },
  {
   "cell_type": "code",
   "execution_count": 8,
   "id": "4c5124f3-7738-4d36-864b-850d02cbad95",
   "metadata": {},
   "outputs": [
    {
     "data": {
      "text/plain": [
       "['region_encoder_lgbm.pkl']"
      ]
     },
     "execution_count": 8,
     "metadata": {},
     "output_type": "execute_result"
    }
   ],
   "source": [
    "# Save model and encoder\n",
    "model.save_model('hotel_pricing_lgbm_model.json')\n",
    "joblib.dump(le, 'region_encoder_lgbm.pkl')"
   ]
  },
  {
   "cell_type": "code",
   "execution_count": 14,
   "id": "c8910ecc-3dbc-40a7-9cad-d782724ff26a",
   "metadata": {},
   "outputs": [
    {
     "data": {
      "text/plain": [
       "<Figure size 1000x600 with 0 Axes>"
      ]
     },
     "metadata": {},
     "output_type": "display_data"
    },
    {
     "data": {
      "image/png": "[encoded data removed]",
      "text/plain": [
       "<Figure size 640x480 with 1 Axes>"
      ]
     },
     "metadata": {},
     "output_type": "display_data"
    },
    {
     "name": "stdout",
     "output_type": "stream",
     "text": [
      "\n",
      "Feature Importance Scores:\n",
      "                 Feature    Importance\n",
      "2             Fixed_Cost  1.473875e+11\n",
      "4            Nbre-Etoile  1.793672e+10\n",
      "3                 Region  1.144220e+10\n",
      "0  Demand_Multiplier_res  1.072170e+09\n",
      "1           Occ_Rate_Res  8.215239e+08\n"
     ]
    }
   ],
   "source": [
    "# Feature Importance Visualization\n",
    "plt.figure(figsize=(10, 6))\n",
    "lgb.plot_importance(model, importance_type='gain', max_num_features=10)\n",
    "plt.title('Feature Importance (Gain)')\n",
    "plt.show()\n",
    "\n",
    "# Numeric Feature Importance\n",
    "importance = model.feature_importance(importance_type='gain')\n",
    "feature_importance = pd.DataFrame({\n",
    "    'Feature': features,\n",
    "    'Importance': importance\n",
    "}).sort_values('Importance', ascending=False)\n",
    "\n",
    "print(\"\\nFeature Importance Scores:\")\n",
    "print(feature_importance)"
   ]
  },
  {
   "cell_type": "code",
   "execution_count": 9,
   "id": "ccba6ab1-02db-4f93-bbdb-bd6bb0b6651d",
   "metadata": {},
   "outputs": [],
   "source": [
    "# Prediction function\n",
    "def predict_hotel_price_lgbm(input_features):\n",
    "    \"\"\"\n",
    "    Predict hotel price using LightGBM model\n",
    "    \n",
    "    Args:\n",
    "        input_features (dict): {\n",
    "            'Demand_Multiplier_res': float,\n",
    "            'Occ_Rate_Res': float,\n",
    "            'Fixed_Cost': float,\n",
    "            'Region': str  # Original region name\n",
    "            'Nbre-Etoile'\n",
    "        }\n",
    "    \n",
    "    Returns:\n",
    "        float: Predicted price\n",
    "    \"\"\"\n",
    "    # Load model and encoder\n",
    "    model = lgb.Booster(model_file='hotel_pricing_lgbm_model.json')\n",
    "    le = joblib.load('region_encoder_lgbm.pkl')\n",
    "    \n",
    "    # Convert to DataFrame\n",
    "    input_df = pd.DataFrame([input_features])\n",
    "    \n",
    "    # Encode region (handle unseen categories)\n",
    "    try:\n",
    "        input_df['Region'] = le.transform(input_df['Region'])\n",
    "    except ValueError:\n",
    "        # Assign unknown region code if not found\n",
    "        input_df['Region'] = len(le.classes_)\n",
    "    \n",
    "    # Ensure correct feature order\n",
    "    input_df = input_df[features]\n",
    "    \n",
    "    # Predict\n",
    "    return float(model.predict(input_df)[0])"
   ]
  },
  {
   "cell_type": "code",
   "execution_count": 11,
   "id": "2fc8bb61-785a-4f8e-ad98-96372c974eaf",
   "metadata": {},
   "outputs": [],
   "source": [
    " example_input = {\n",
    "        'Demand_Multiplier_res': 1.48,\n",
    "        'Occ_Rate_Res': 0.46,\n",
    "        'Fixed_Cost': 100,\n",
    "        'Region': 'Mahdia',\n",
    "        'Nbre-Etoile':3\n",
    "    }"
   ]
  },
  {
   "cell_type": "code",
   "execution_count": 12,
   "id": "abb0d787-f1d8-4d3e-9c6e-c29aefdefd18",
   "metadata": {},
   "outputs": [
    {
     "name": "stdout",
     "output_type": "stream",
     "text": [
      "\n",
      "Predicted price: 354.05TND\n"
     ]
    }
   ],
   "source": [
    "predicted_price = predict_hotel_price_lgbm(example_input)\n",
    "print(f\"\\nPredicted price: {predicted_price:.2f}TND\")"
   ]
  },
  {
   "cell_type": "code",
   "execution_count": 15,
   "id": "7b83463c-7710-4787-a29e-40df717af9a0",
   "metadata": {},
   "outputs": [],
   "source": [
    "import xgboost as xgb"
   ]
  },
  {
   "cell_type": "code",
   "execution_count": 16,
   "id": "d2d0d32e-e42a-4b04-a17d-fb25b5e9277e",
   "metadata": {},
   "outputs": [],
   "source": [
    "# Create DMatrix for XGBoost (optimized data structure)\n",
    "dtrain = xgb.DMatrix(X_train, label=y_train)\n",
    "dtest = xgb.DMatrix(X_test, label=y_test)"
   ]
  },
  {
   "cell_type": "code",
   "execution_count": 17,
   "id": "181e1f13-e16b-4040-b5f1-2891dd347cd8",
   "metadata": {},
   "outputs": [],
   "source": [
    "# XGBoost parameters\n",
    "params = {\n",
    "    'objective': 'reg:squarederror',\n",
    "    'eval_metric': ['mae', 'rmse'],\n",
    "    'learning_rate': 0.05,\n",
    "    'max_depth': 6,\n",
    "    'min_child_weight': 1,\n",
    "    'subsample': 0.8,\n",
    "    'colsample_bytree': 0.8,\n",
    "    'gamma': 0,\n",
    "    'reg_alpha': 0.1,\n",
    "    'reg_lambda': 1,\n",
    "    'random_state': 42\n",
    "}"
   ]
  },
  {
   "cell_type": "code",
   "execution_count": 18,
   "id": "66aae8b3-c4b6-403f-972c-ee2bbfa5d358",
   "metadata": {
    "scrolled": true
   },
   "outputs": [
    {
     "name": "stdout",
     "output_type": "stream",
     "text": [
      "[0]\ttrain-mae:166.47219\ttrain-rmse:237.20401\ttest-mae:167.61753\ttest-rmse:238.83246\n",
      "[50]\ttrain-mae:60.02780\ttrain-rmse:73.31071\ttest-mae:60.28482\ttest-rmse:73.60832\n",
      "[100]\ttrain-mae:53.28280\ttrain-rmse:65.58368\ttest-mae:53.42626\ttest-rmse:65.81536\n",
      "[150]\ttrain-mae:50.10083\ttrain-rmse:61.87577\ttest-mae:50.27612\ttest-rmse:62.15372\n",
      "[200]\ttrain-mae:47.74784\ttrain-rmse:59.25088\ttest-mae:47.96332\ttest-rmse:59.57152\n",
      "[250]\ttrain-mae:45.65358\ttrain-rmse:56.95626\ttest-mae:45.88198\ttest-rmse:57.29669\n",
      "[300]\ttrain-mae:43.56669\ttrain-rmse:54.57685\ttest-mae:43.81038\ttest-rmse:54.94475\n",
      "[350]\ttrain-mae:41.91615\ttrain-rmse:52.71020\ttest-mae:42.15713\ttest-rmse:53.07646\n",
      "[400]\ttrain-mae:40.57769\ttrain-rmse:51.22356\ttest-mae:40.83276\ttest-rmse:51.61067\n",
      "[450]\ttrain-mae:39.35950\ttrain-rmse:49.85572\ttest-mae:39.63886\ttest-rmse:50.25974\n",
      "[500]\ttrain-mae:38.18295\ttrain-rmse:48.51080\ttest-mae:38.47668\ttest-rmse:48.92268\n",
      "[550]\ttrain-mae:37.04550\ttrain-rmse:47.25538\ttest-mae:37.35227\ttest-rmse:47.67646\n",
      "[600]\ttrain-mae:36.12384\ttrain-rmse:46.22782\ttest-mae:36.45056\ttest-rmse:46.65650\n",
      "[650]\ttrain-mae:35.25937\ttrain-rmse:45.27930\ttest-mae:35.60204\ttest-rmse:45.72109\n",
      "[700]\ttrain-mae:34.49920\ttrain-rmse:44.43651\ttest-mae:34.85140\ttest-rmse:44.88586\n",
      "[750]\ttrain-mae:33.87213\ttrain-rmse:43.75581\ttest-mae:34.23864\ttest-rmse:44.22734\n",
      "[800]\ttrain-mae:33.18541\ttrain-rmse:43.01195\ttest-mae:33.54917\ttest-rmse:43.48343\n",
      "[850]\ttrain-mae:32.71754\ttrain-rmse:42.50702\ttest-mae:33.10055\ttest-rmse:43.00083\n",
      "[900]\ttrain-mae:32.20368\ttrain-rmse:41.95117\ttest-mae:32.59800\ttest-rmse:42.45977\n",
      "[950]\ttrain-mae:31.79846\ttrain-rmse:41.51676\ttest-mae:32.20524\ttest-rmse:42.03913\n",
      "[1000]\ttrain-mae:31.38170\ttrain-rmse:41.06703\ttest-mae:31.81068\ttest-rmse:41.61460\n",
      "[1050]\ttrain-mae:31.01563\ttrain-rmse:40.68168\ttest-mae:31.46143\ttest-rmse:41.25037\n",
      "[1100]\ttrain-mae:30.62238\ttrain-rmse:40.26199\ttest-mae:31.08151\ttest-rmse:40.84932\n",
      "[1150]\ttrain-mae:30.29405\ttrain-rmse:39.92055\ttest-mae:30.77474\ttest-rmse:40.53949\n",
      "[1200]\ttrain-mae:30.01997\ttrain-rmse:39.62493\ttest-mae:30.52169\ttest-rmse:40.27431\n",
      "[1250]\ttrain-mae:29.79829\ttrain-rmse:39.39126\ttest-mae:30.32281\ttest-rmse:40.07072\n",
      "[1300]\ttrain-mae:29.54467\ttrain-rmse:39.12811\ttest-mae:30.08187\ttest-rmse:39.82325\n",
      "[1350]\ttrain-mae:29.32646\ttrain-rmse:38.89402\ttest-mae:29.88066\ttest-rmse:39.61909\n",
      "[1400]\ttrain-mae:29.15401\ttrain-rmse:38.71468\ttest-mae:29.72709\ttest-rmse:39.47033\n",
      "[1450]\ttrain-mae:29.00377\ttrain-rmse:38.55556\ttest-mae:29.59207\ttest-rmse:39.33429\n",
      "[1500]\ttrain-mae:28.80287\ttrain-rmse:38.34101\ttest-mae:29.40212\ttest-rmse:39.14172\n",
      "[1550]\ttrain-mae:28.65644\ttrain-rmse:38.19023\ttest-mae:29.27466\ttest-rmse:39.02159\n",
      "[1600]\ttrain-mae:28.48647\ttrain-rmse:38.01438\ttest-mae:29.12460\ttest-rmse:38.87445\n",
      "[1650]\ttrain-mae:28.32096\ttrain-rmse:37.83998\ttest-mae:28.97355\ttest-rmse:38.72502\n",
      "[1700]\ttrain-mae:28.20355\ttrain-rmse:37.71624\ttest-mae:28.87078\ttest-rmse:38.62236\n",
      "[1750]\ttrain-mae:28.07593\ttrain-rmse:37.58429\ttest-mae:28.76080\ttest-rmse:38.51756\n",
      "[1800]\ttrain-mae:27.97214\ttrain-rmse:37.47401\ttest-mae:28.67599\ttest-rmse:38.43966\n",
      "[1850]\ttrain-mae:27.86661\ttrain-rmse:37.36427\ttest-mae:28.58422\ttest-rmse:38.35669\n",
      "[1900]\ttrain-mae:27.76102\ttrain-rmse:37.25434\ttest-mae:28.49514\ttest-rmse:38.27094\n",
      "[1950]\ttrain-mae:27.65169\ttrain-rmse:37.14186\ttest-mae:28.40394\ttest-rmse:38.18497\n",
      "[1999]\ttrain-mae:27.57305\ttrain-rmse:37.05751\ttest-mae:28.34605\ttest-rmse:38.13013\n"
     ]
    }
   ],
   "source": [
    "# Train model\n",
    "evals_result = {}\n",
    "model = xgb.train(\n",
    "    params,\n",
    "    dtrain,\n",
    "    num_boost_round=2000,\n",
    "    evals=[(dtrain, 'train'), (dtest, 'test')],\n",
    "    early_stopping_rounds=50,\n",
    "    evals_result=evals_result,\n",
    "    verbose_eval=50\n",
    ")"
   ]
  },
  {
   "cell_type": "code",
   "execution_count": 19,
   "id": "14493572-a671-40d6-9ff5-50ce7f38c09c",
   "metadata": {},
   "outputs": [
    {
     "name": "stdout",
     "output_type": "stream",
     "text": [
      "\n",
      "MAE: 28.35\n",
      "RMSE: 38.13\n",
      "R²: 0.9768\n"
     ]
    }
   ],
   "source": [
    "# Evaluate\n",
    "y_pred = model.predict(dtest)\n",
    "print(f\"\\nMAE: {mean_absolute_error(y_test, y_pred):.2f}\")\n",
    "print(f\"RMSE: {np.sqrt(mean_squared_error(y_test, y_pred)):.2f}\")\n",
    "print(f\"R²: {r2_score(y_test, y_pred):.4f}\")"
   ]
  },
  {
   "cell_type": "code",
   "execution_count": 20,
   "id": "f99fbb50-86ca-4198-b1f0-e04f7847a4ab",
   "metadata": {},
   "outputs": [
    {
     "data": {
      "text/plain": [
       "<Figure size 1000x600 with 0 Axes>"
      ]
     },
     "metadata": {},
     "output_type": "display_data"
    },
    {
     "data": {
      "image/png": "[encoded data removed]",
      "text/plain": [
       "<Figure size 640x480 with 1 Axes>"
      ]
     },
     "metadata": {},
     "output_type": "display_data"
    },
    {
     "name": "stdout",
     "output_type": "stream",
     "text": [
      "\n",
      "Feature Importance Scores:\n",
      "                 Feature    Importance\n",
      "2             Fixed_Cost  4.336218e+06\n",
      "4            Nbre-Etoile  1.141685e+06\n",
      "3                 Region  3.848497e+05\n",
      "1           Occ_Rate_Res  2.940081e+04\n",
      "0  Demand_Multiplier_res  2.834693e+04\n"
     ]
    }
   ],
   "source": [
    "# Feature Importance Visualization\n",
    "plt.figure(figsize=(10, 6))\n",
    "xgb.plot_importance(model, importance_type='gain', max_num_features=10)\n",
    "plt.title('XGBoost Feature Importance (Gain)')\n",
    "plt.show()\n",
    "\n",
    "# Numeric Feature Importance\n",
    "importance = model.get_score(importance_type='gain')\n",
    "feature_importance = pd.DataFrame({\n",
    "    'Feature': importance.keys(),\n",
    "    'Importance': importance.values()\n",
    "}).sort_values('Importance', ascending=False)\n",
    "\n",
    "print(\"\\nFeature Importance Scores:\")\n",
    "print(feature_importance)"
   ]
  },
  {
   "cell_type": "code",
   "execution_count": null,
   "id": "0aa3cbd7-9939-4f98-805b-c97f495e264e",
   "metadata": {},
   "outputs": [],
   "source": [
    "# Prediction function\n",
    "def predict_hotel_price_xgb(input_features):\n",
    "    \"\"\"\n",
    "    Predict hotel price using XGBoost model\n",
    "    \n",
    "    Args:\n",
    "        input_features (dict): {\n",
    "            'Demand_Multiplier_res': float,\n",
    "            'Occ_Rate_Res': float,\n",
    "            'Fixed_Cost': float,\n",
    "            'Region': str  # Original region name\n",
    "        }\n",
    "    \n",
    "    Returns:\n",
    "        float: Predicted price\n",
    "    \"\"\"\n",
    "    # Load model and encoder\n",
    "    model = xgb.Booster()\n",
    "    model.load_model('hotel_pricing_xgb.json')\n",
    "    le = joblib.load('region_encoder_xgb.pkl')\n",
    "    \n",
    "    # Convert to DataFrame\n",
    "    input_df = pd.DataFrame([input_features])\n",
    "    \n",
    "    # Encode region (handle unseen categories)\n",
    "    try:\n",
    "        input_df['Region'] = le.transform(input_df['Region'])\n",
    "    except ValueError:\n",
    "        # Assign unknown region code if not found\n",
    "        input_df['Region'] = len(le.classes_)\n",
    "    \n",
    "    # Convert to DMatrix\n",
    "    dinput = xgb.DMatrix(input_df[features])\n",
    "    \n",
    "    # Predict\n",
    "    return float(model.predict(dinput)[0])"
   ]
  },
  {
   "cell_type": "code",
   "execution_count": null,
   "id": "2a3ff97f-5074-4167-9ab5-406814f15dbd",
   "metadata": {},
   "outputs": [],
   "source": [
    "# Example usage\n",
    "if __name__ == \"__main__\":\n",
    "    example_input = {\n",
    "        'Demand_Multiplier_res': 1.6,\n",
    "        'Occ_Rate_Res': 0.7,\n",
    "        'Fixed_Cost': 120,\n",
    "        'Region': 'Djerba',\n",
    "        'Nbre-Etoile':4\n",
    "    }\n",
    "    \n",
    "    predicted_price = predict_hotel_price_xgb(example_input)\n",
    "    print(f\"\\nPredicted price: ${predicted_price:.2f}\")"
   ]
  }
 ],
 "metadata": {
  "kernelspec": {
   "display_name": "Python [conda env:base] *",
   "language": "python",
   "name": "conda-base-py"
  },
  "language_info": {
   "codemirror_mode": {
    "name": "ipython",
    "version": 3
   },
   "file_extension": ".py",
   "mimetype": "text/x-python",
   "name": "python",
   "nbconvert_exporter": "python",
   "pygments_lexer": "ipython3",
   "version": "3.12.7"
  }
 },
 "nbformat": 4,
 "nbformat_minor": 5
}
